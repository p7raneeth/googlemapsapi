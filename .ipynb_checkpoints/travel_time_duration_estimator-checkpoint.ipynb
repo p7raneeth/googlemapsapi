{
 "cells": [
  {
   "cell_type": "markdown",
   "metadata": {},
   "source": [
    "GoogleMapsAPI"
   ]
  },
  {
   "cell_type": "code",
   "execution_count": 56,
   "metadata": {},
   "outputs": [],
   "source": [
    "import urllib.request\n",
    "import json"
   ]
  },
  {
   "cell_type": "code",
   "execution_count": 57,
   "metadata": {},
   "outputs": [],
   "source": [
    "def generate_traffic_calc_api(end_point, origin, destination, api_key):\n",
    "    nav_url = f'{end_point}origin={origin}&destination={destination}&key={api_key}'\n",
    "    response = urllib.request.urlopen(nav_url).read()\n",
    "    response = json.loads(response)\n",
    "    return response"
   ]
  },
  {
   "cell_type": "code",
   "execution_count": 58,
   "metadata": {},
   "outputs": [
    {
     "name": "stdout",
     "output_type": "stream",
     "text": [
      " Please specify the originVijayawada\n",
      " Please specify the DestinationBangalore\n"
     ]
    }
   ],
   "source": [
    "end_point = \"https://maps.googleapis.com/maps/api/directions/json?\"\n",
    "origin = input(' Please specify the origin')\n",
    "destination = input(' Please specify the Destination')\n",
    "api_key = \"wfjkhbaenfJBJNLnjvawfnl72te7\"\n",
    "try:\n",
    "    api_generated = generate_traffic_calc_api(end_point, origin, destination, api_key)\n",
    "except "
   ]
  },
  {
   "cell_type": "code",
   "execution_count": 59,
   "metadata": {},
   "outputs": [
    {
     "data": {
      "text/plain": [
       "{'error_message': 'The provided API key is invalid.',\n",
       " 'routes': [],\n",
       " 'status': 'REQUEST_DENIED'}"
      ]
     },
     "execution_count": 59,
     "metadata": {},
     "output_type": "execute_result"
    }
   ],
   "source": [
    "api_generated"
   ]
  },
  {
   "cell_type": "code",
   "execution_count": null,
   "metadata": {},
   "outputs": [],
   "source": []
  }
 ],
 "metadata": {
  "kernelspec": {
   "display_name": "Python 3",
   "language": "python",
   "name": "python3"
  },
  "language_info": {
   "codemirror_mode": {
    "name": "ipython",
    "version": 3
   },
   "file_extension": ".py",
   "mimetype": "text/x-python",
   "name": "python",
   "nbconvert_exporter": "python",
   "pygments_lexer": "ipython3",
   "version": "3.7.3"
  }
 },
 "nbformat": 4,
 "nbformat_minor": 2
}
